{
 "metadata": {
  "language_info": {
   "codemirror_mode": {
    "name": "ipython",
    "version": 3
   },
   "file_extension": ".py",
   "mimetype": "text/x-python",
   "name": "python",
   "nbconvert_exporter": "python",
   "pygments_lexer": "ipython3",
   "version": "3.8.5-final"
  },
  "orig_nbformat": 2,
  "kernelspec": {
   "name": "python3",
   "display_name": "Python 3"
  }
 },
 "nbformat": 4,
 "nbformat_minor": 2,
 "cells": [
  {
   "source": [
    "## Construcción de cadena usando Busqueda Codiciosa"
   ],
   "cell_type": "markdown",
   "metadata": {}
  },
  {
   "cell_type": "code",
   "execution_count": 1,
   "metadata": {},
   "outputs": [],
   "source": [
    "import simpleai.search as ss"
   ]
  },
  {
   "cell_type": "code",
   "execution_count": 2,
   "metadata": {},
   "outputs": [],
   "source": [
    "#Hereda de SearchProblem que es una clase de la biblioteca simpleiai\n",
    "class CustomProblem(ss.SearchProblem):\n",
    "    #redefinine el metodo para adadtar la cadena de salida\n",
    "    def set_target(self, target_string):\n",
    "        self.target_string = target_string\n",
    "    \"\"\"\n",
    "    El metodo 'actions' es el responsable de dar los pasos hacia la meta.\n",
    "    Si la longitud de la cadena actual es menor que la longitud de destino\n",
    "    \"\"\"\n",
    "    #Verifica el estado actual y toma la acción correcta\n",
    "    def actions(self,cur_state):\n",
    "        if len(cur_state) < len(self.target_string):\n",
    "            alphabets =  'abcdefghijklmnopqrstuvwxyz'\n",
    "            return list(alphabets + ' '+ alphabets.upper())\n",
    "        else:\n",
    "            return []\n",
    "    #El metodo retorna el resultado de la concatenación de la cadena actual y  la acción a seguir\n",
    "    #Se reajusta el metodo\n",
    "    def result(self, cur_state, action):\n",
    "        return cur_state + action\n",
    "    #Este metodo comprueba que hemos encotrado la solución \n",
    "    def is_goal(self, cur_state):\n",
    "        return cur_state == self.target_string\n",
    "    #Redefine el metodo heuristic de SearchProblem, Se define la  heuristica\n",
    "    #calculando que tan lejos estamos de la solución para guiar la heuristica hacia el objetivo\n",
    "    def heuristic(self, cur_state):\n",
    "        #Compara la cadena actual con la cadena objetivo\n",
    "        dist = sum([1 if cur_state[i] != self.target_string[i] else 0 for i in range(len(cur_state))])\n",
    "        #Diferencia entre las longitudes de las cadenas\n",
    "        diff = len(self.target_string) - len(cur_state)\n",
    "\n",
    "        return dist + diff\n"
   ]
  },
  {
   "cell_type": "code",
   "execution_count": 3,
   "metadata": {},
   "outputs": [
    {
     "output_type": "stream",
     "name": "stdout",
     "text": [
      "Pasos hacia la solucíon:\n(None, 'Hola')\n(' ', 'Hola ')\n('m', 'Hola m')\n('u', 'Hola mu')\n('n', 'Hola mun')\n('d', 'Hola mund')\n('o', 'Hola mundo')\n(' ', 'Hola mundo ')\n('q', 'Hola mundo q')\n('u', 'Hola mundo qu')\n('e', 'Hola mundo que')\n(' ', 'Hola mundo que ')\n('h', 'Hola mundo que h')\n('a', 'Hola mundo que ha')\n('c', 'Hola mundo que hac')\n('e', 'Hola mundo que hace')\n"
     ]
    }
   ],
   "source": [
    "problem = CustomProblem()\n",
    "#Cadena objetivo\n",
    "problem.set_target('Hola mundo que hace')\n",
    "#Estado inicial de la cadena a contruir \n",
    "problem.initial_state = 'Hola'\n",
    "#Corre el solucionador\n",
    "output = ss.greedy(problem)\n",
    "print('Pasos hacia la solucíon:')\n",
    "for item in output.path():\n",
    "    print(item)"
   ]
  },
  {
   "cell_type": "code",
   "execution_count": null,
   "metadata": {},
   "outputs": [],
   "source": []
  }
 ]
}