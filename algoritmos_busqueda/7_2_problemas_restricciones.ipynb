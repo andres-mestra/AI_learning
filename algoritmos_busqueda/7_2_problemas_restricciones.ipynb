{
 "metadata": {
  "language_info": {
   "codemirror_mode": {
    "name": "ipython",
    "version": 3
   },
   "file_extension": ".py",
   "mimetype": "text/x-python",
   "name": "python",
   "nbconvert_exporter": "python",
   "pygments_lexer": "ipython3",
   "version": "3.8.5-final"
  },
  "orig_nbformat": 2,
  "kernelspec": {
   "name": "python3",
   "display_name": "Python 3"
  }
 },
 "nbformat": 4,
 "nbformat_minor": 2,
 "cells": [
  {
   "source": [
    "## Resolver problemas con restricciones"
   ],
   "cell_type": "markdown",
   "metadata": {}
  },
  {
   "cell_type": "code",
   "execution_count": 1,
   "metadata": {},
   "outputs": [],
   "source": [
    "from simpleai.search import CspProblem, backtrack, \\\n",
    "    min_conflicts, MOST_CONSTRAINED_VARIABLE,\\\n",
    "    HIGHEST_DEGREE_VARIABLE, LEAST_CONSTRAINING_VALUE"
   ]
  },
  {
   "cell_type": "code",
   "execution_count": 2,
   "metadata": {},
   "outputs": [],
   "source": [
    "#Restricción que valida que las variables deben tener valores diferentes \n",
    "def constraint_unique(variables, values):\n",
    "    return len(values) == len(set(values))\n",
    "\n",
    "#Define que el primer valor debe ser mayor que el segundo valor\n",
    "def constraint_bigger(variables,values):\n",
    "    return values[0] > values[1]\n",
    "\n",
    "#Define que si el primer valor es par, el segundo debe ser impar y viceversa\n",
    "def constraint_odd_even(variables,values):\n",
    "    if values[0] % 2 == 0:\n",
    "        return values[1] % 2 ==1\n",
    "    else:\n",
    "        return values[1] % 2 == 0"
   ]
  },
  {
   "cell_type": "code",
   "execution_count": 3,
   "metadata": {},
   "outputs": [],
   "source": [
    "variables = ('John','Anna','Tom','Patricia')\n",
    "#Define los valores que puede tomar cada variable, dominios\n",
    "domains = {\n",
    "    'John':[1,2,3],\n",
    "    'Anna':[1,3],\n",
    "    'Tom':[2,4],\n",
    "    'Patricia':[2,3,4],\n",
    "}\n",
    "\"\"\"\n",
    "Define las restricciones\n",
    "* John, Anna y Tom deben tener valores diferentes\n",
    "* El valor de Tom debería ser mayor que el valor de Anna\n",
    "*Si el valor de John es impar, entonces el valor de Patricia debe ser par y viceversa.\n",
    "\"\"\"\n",
    "constraints = [\n",
    "    (('John','Anna','Tom'),constraint_unique),\n",
    "    (('Tom','Anna'),constraint_bigger),\n",
    "    (('John','Patricia'),constraint_odd_even),\n",
    "]\n",
    "#Inicializamos el CspProblem con las variables, los dominimos, restricciones\n",
    "problem = CspProblem(variables,domains,constraints)"
   ]
  },
  {
   "cell_type": "code",
   "execution_count": 6,
   "metadata": {},
   "outputs": [
    {
     "output_type": "stream",
     "name": "stdout",
     "text": [
      "Soluciónes \nNormal: {'John': 1, 'Anna': 3, 'Tom': 4, 'Patricia': 2}\nVariable mas restringida: {'Anna': 1, 'Tom': 2, 'John': 3, 'Patricia': 2}\nVariable de grado más alto: {'John': 1, 'Anna': 3, 'Tom': 4, 'Patricia': 2}\nMinimo valor restrictivo: {'John': 1, 'Anna': 3, 'Tom': 4, 'Patricia': 2}\nVariable mas restrictiva y menor valor restrictivo: {'Anna': 1, 'Tom': 2, 'John': 3, 'Patricia': 2}\nGrado más alto y menor valor restrictivo: {'John': 1, 'Anna': 3, 'Tom': 4, 'Patricia': 2}\nConflictos minimos: {'John': 3, 'Anna': 1, 'Tom': 4, 'Patricia': 2}\n"
     ]
    }
   ],
   "source": [
    "print('Soluciónes \\nNormal:', backtrack(problem))\n",
    "print('Variable mas restringida:', backtrack(problem,variable_heuristic=MOST_CONSTRAINED_VARIABLE))\n",
    "print('Variable de grado más alto:',backtrack(problem,value_heuristic=HIGHEST_DEGREE_VARIABLE))\n",
    "print('Minimo valor restrictivo:',backtrack(problem,variable_heuristic=LEAST_CONSTRAINING_VALUE))\n",
    "print('Variable mas restrictiva y menor valor restrictivo:',backtrack(problem,variable_heuristic=MOST_CONSTRAINED_VARIABLE,value_heuristic=LEAST_CONSTRAINING_VALUE))\n",
    "print('Grado más alto y menor valor restrictivo:',backtrack(problem,variable_heuristic=HIGHEST_DEGREE_VARIABLE,value_heuristic=LEAST_CONSTRAINING_VALUE))\n",
    "print('Conflictos minimos:',min_conflicts(problem))"
   ]
  },
  {
   "cell_type": "code",
   "execution_count": null,
   "metadata": {},
   "outputs": [],
   "source": []
  }
 ]
}