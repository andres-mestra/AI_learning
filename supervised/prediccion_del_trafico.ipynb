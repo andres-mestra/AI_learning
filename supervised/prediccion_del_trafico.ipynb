{
 "cells": [
  {
   "cell_type": "markdown",
   "metadata": {},
   "source": [
    "# Predecir el trafico usando un regresor extremadamente aleatorio"
   ]
  },
  {
   "cell_type": "markdown",
   "metadata": {},
   "source": [
    "https://archive.ics.uci.edu/ml/datasets/Dodgers+Loop+Sensor. Este conjunto de datos constade datos que cuentan la cantidad de vehículos que pasan por la carretera durante los juegos de béisbol en el estadio Los Angeles Dodgers.\n",
    "\n",
    "Martes, 00:00, San Francisco, no, 3\n",
    "Día de la semana, hora del día, equipo oponente, valor binario que indica si unEl juego de béisbol está actualmente en curso (sí / no), número de vehículos que pasan.\n"
   ]
  },
  {
   "cell_type": "code",
   "execution_count": 52,
   "metadata": {},
   "outputs": [],
   "source": [
    "import numpy as np\n",
    "import matplotlib.pyplot as plt\n",
    "from sklearn.metrics import classification_report, mean_absolute_error\n",
    "from sklearn import preprocessing\n",
    "from sklearn.model_selection import train_test_split\n",
    "from sklearn.metrics import classification_report\n",
    "from sklearn.ensemble import ExtraTreesRegressor"
   ]
  },
  {
   "cell_type": "code",
   "execution_count": 62,
   "metadata": {},
   "outputs": [],
   "source": [
    "input_file = 'traffic_data.txt'\n",
    "data = []\n",
    "\n",
    "with open(input_file, 'r') as f:\n",
    "    for line in f.readlines ():\n",
    "        items = line[:-1].split(',')\n",
    "        data.append(items)\n",
    "        \n",
    "data = np.array(data)"
   ]
  },
  {
   "cell_type": "code",
   "execution_count": 63,
   "metadata": {},
   "outputs": [
    {
     "name": "stdout",
     "output_type": "stream",
     "text": [
      "[[  5.   0.  13.   0.   3.]\n",
      " [  5.   1.  13.   0.   8.]\n",
      " [  5.   2.  13.   0.  10.]\n",
      " ...\n",
      " [  4. 285.   0.   0.  11.]\n",
      " [  4. 286.   0.   0.  14.]\n",
      " [  4. 287.   0.   0.  17.]]\n"
     ]
    }
   ],
   "source": [
    "#Codificando los caracteres no numericos de los datos\n",
    "label_encoder=[]\n",
    "X_encoded = np.empty(data.shape)\n",
    "for i, item in enumerate(data[0]):\n",
    "    if item.isdigit():\n",
    "        X_encoded[:,i] = data[:, i]\n",
    "    else:\n",
    "        label_encoder.append(preprocessing.LabelEncoder())\n",
    "        X_encoded[:, i] = label_encoder[-1].fit_transform(data[:, i])\n",
    "         \n",
    "        \n",
    "print(X_encoded)\n"
   ]
  },
  {
   "cell_type": "code",
   "execution_count": 64,
   "metadata": {},
   "outputs": [],
   "source": [
    "X = X_encoded[:, :-1].astype(int)\n",
    "y = X_encoded[:, -1].astype(int)\n",
    "\n",
    "#Training and testing\n",
    "X_train, X_test, y_train, y_test = train_test_split(X,y, test_size=0.25, random_state=5)"
   ]
  },
  {
   "cell_type": "code",
   "execution_count": 65,
   "metadata": {},
   "outputs": [
    {
     "name": "stdout",
     "output_type": "stream",
     "text": [
      "Error absoluto medio: 7.42\n"
     ]
    }
   ],
   "source": [
    "#Construcción de regresor \n",
    "params = {'n_estimators':100, 'max_depth': 4, 'random_state':0}\n",
    "regressor = ExtraTreesRegressor(**params)\n",
    "regressor.fit(X_train, y_train)\n",
    "\n",
    "#Probando el rendimiento del regresor \n",
    "y_pred = regressor.predict(X_test)\n",
    "print(\"Error absoluto medio:\", round(mean_absolute_error(y_test, y_pred), 2) )"
   ]
  },
  {
   "cell_type": "code",
   "execution_count": 67,
   "metadata": {},
   "outputs": [
    {
     "name": "stdout",
     "output_type": "stream",
     "text": [
      "Predicción de trafico: 5\n"
     ]
    }
   ],
   "source": [
    "#Probar el regresor con etiquetas de datos de entrada \n",
    "#test_datapoint = ['Saturday', '10:20', 'Atlanta', 'no']\n",
    "#test_datapoint = ['Tuesday','21:25','San Francisco','no']\n",
    "test_datapoint = ['Wednesday','00:05','San Francisco','no']\n",
    "test_datapoint_encoded = [-1] * len(test_datapoint)\n",
    "\n",
    "count = 0\n",
    "\n",
    "for i, item in enumerate(test_datapoint):\n",
    "    if item.isdigit():\n",
    "        test_datapoint_encoded[i] = int(test_datapoint[i])\n",
    "    else:\n",
    "        test_datapoint_encoded[i] = int(label_encoder[count].transform( [test_datapoint[i]] ))\n",
    "        count = count + 1\n",
    "        \n",
    "test_datapoint_encoded = np.array(test_datapoint_encoded)\n",
    "print(\"Predicción de trafico:\", int(regressor.predict( [test_datapoint_encoded])[0] ))\n"
   ]
  },
  {
   "cell_type": "code",
   "execution_count": null,
   "metadata": {},
   "outputs": [],
   "source": []
  }
 ],
 "metadata": {
  "kernelspec": {
   "display_name": "Python 3",
   "language": "python",
   "name": "python3"
  },
  "language_info": {
   "codemirror_mode": {
    "name": "ipython",
    "version": 3
   },
   "file_extension": ".py",
   "mimetype": "text/x-python",
   "name": "python",
   "nbconvert_exporter": "python",
   "pygments_lexer": "ipython3",
   "version": "3.8.2"
  }
 },
 "nbformat": 4,
 "nbformat_minor": 4
}
