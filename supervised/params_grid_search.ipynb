{
 "cells": [
  {
   "cell_type": "markdown",
   "metadata": {},
   "source": [
    "# Busqueda de cuadricula"
   ]
  },
  {
   "cell_type": "markdown",
   "metadata": {},
   "source": [
    "Nos permite espeficicar un rango de valores para que el clasificador ajuste automaticamente la mejor combinación de parametros de entrenamiento "
   ]
  },
  {
   "cell_type": "code",
   "execution_count": 63,
   "metadata": {},
   "outputs": [],
   "source": [
    "import numpy as np\n",
    "import matplotlib.pyplot as plt\n",
    "from sklearn.metrics import classification_report\n",
    "from sklearn.ensemble import ExtraTreesClassifier\n",
    "from sklearn.model_selection import train_test_split\n",
    "from sklearn.model_selection import GridSearchCV\n",
    "\n",
    "from utilities import visualize_classifier"
   ]
  },
  {
   "cell_type": "code",
   "execution_count": 64,
   "metadata": {},
   "outputs": [],
   "source": [
    "#Cargamos datos\n",
    "input_file = 'data_random_forests.txt'\n",
    "data = np.loadtxt(input_file, delimiter=',')\n",
    "X,y = data[:,:-1], data[:,-1]"
   ]
  },
  {
   "cell_type": "code",
   "execution_count": 65,
   "metadata": {},
   "outputs": [],
   "source": [
    "#clases\n",
    "class_0 = np.array(X[y==0])\n",
    "class_1 = np.array(X[y==1])\n",
    "class_2 = np.array(X[y==2])"
   ]
  },
  {
   "cell_type": "code",
   "execution_count": 66,
   "metadata": {},
   "outputs": [],
   "source": [
    "X_train, X_test, y_train, y_test = train_test_split(X,y,test_size=0.25, random_state=5)"
   ]
  },
  {
   "cell_type": "markdown",
   "metadata": {},
   "source": [
    "Definimos la cuadricula de parametros, por lo general se deja uno constante y se varia el otro. Luego al contrario, con el fin de encontrar el mejor n_estimators y max_depth"
   ]
  },
  {
   "cell_type": "code",
   "execution_count": 67,
   "metadata": {},
   "outputs": [],
   "source": [
    "parameter_grid = [{'n_estimators':[100],'max_depth':[2,4,7,12,16]},\n",
    "                  {'max_depth':[4],'n_estimators':[25,50,100,250]}]"
   ]
  },
  {
   "cell_type": "code",
   "execution_count": 68,
   "metadata": {},
   "outputs": [
    {
     "name": "stdout",
     "output_type": "stream",
     "text": [
      "\n",
      "#### Buscando parametros óptimos para: precision_weighted\n",
      "\n",
      "Puntuación para cada cuadricula de parametros:\n",
      "{'max_depth': 2, 'n_estimators': 100} --> 0.85\n",
      "{'max_depth': 4, 'n_estimators': 100} --> 0.841\n",
      "{'max_depth': 7, 'n_estimators': 100} --> 0.844\n",
      "{'max_depth': 12, 'n_estimators': 100} --> 0.832\n",
      "{'max_depth': 16, 'n_estimators': 100} --> 0.816\n",
      "{'max_depth': 4, 'n_estimators': 25} --> 0.846\n",
      "{'max_depth': 4, 'n_estimators': 50} --> 0.84\n",
      "{'max_depth': 4, 'n_estimators': 100} --> 0.841\n",
      "{'max_depth': 4, 'n_estimators': 250} --> 0.845\n",
      "\n",
      "Mejores parametros {'max_depth': 2, 'n_estimators': 100}\n",
      "\n",
      "Reporte de rendimiento:\n",
      "\n",
      "              precision    recall  f1-score   support\n",
      "\n",
      "         0.0       0.94      0.81      0.87        79\n",
      "         1.0       0.81      0.86      0.83        70\n",
      "         2.0       0.83      0.91      0.87        76\n",
      "\n",
      "    accuracy                           0.86       225\n",
      "   macro avg       0.86      0.86      0.86       225\n",
      "weighted avg       0.86      0.86      0.86       225\n",
      "\n",
      "\n",
      "#### Buscando parametros óptimos para: recall_weighted\n",
      "\n",
      "Puntuación para cada cuadricula de parametros:\n",
      "{'max_depth': 2, 'n_estimators': 100} --> 0.843\n",
      "{'max_depth': 4, 'n_estimators': 100} --> 0.837\n",
      "{'max_depth': 7, 'n_estimators': 100} --> 0.841\n",
      "{'max_depth': 12, 'n_estimators': 100} --> 0.83\n",
      "{'max_depth': 16, 'n_estimators': 100} --> 0.815\n",
      "{'max_depth': 4, 'n_estimators': 25} --> 0.843\n",
      "{'max_depth': 4, 'n_estimators': 50} --> 0.836\n",
      "{'max_depth': 4, 'n_estimators': 100} --> 0.837\n",
      "{'max_depth': 4, 'n_estimators': 250} --> 0.841\n",
      "\n",
      "Mejores parametros {'max_depth': 2, 'n_estimators': 100}\n",
      "\n",
      "Reporte de rendimiento:\n",
      "\n",
      "              precision    recall  f1-score   support\n",
      "\n",
      "         0.0       0.94      0.81      0.87        79\n",
      "         1.0       0.81      0.86      0.83        70\n",
      "         2.0       0.83      0.91      0.87        76\n",
      "\n",
      "    accuracy                           0.86       225\n",
      "   macro avg       0.86      0.86      0.86       225\n",
      "weighted avg       0.86      0.86      0.86       225\n",
      "\n"
     ]
    }
   ],
   "source": [
    "#definimos las metricas que el clasificador deberia usar  para cada combinación \n",
    "metrics = ['precision_weighted','recall_weighted']\n",
    "\n",
    "for metric in metrics:\n",
    "    print(\"\\n#### Buscando parametros óptimos para:\", metric)\n",
    "    \n",
    "    classifier = GridSearchCV( ExtraTreesClassifier(random_state=0) , parameter_grid, cv=5, scoring=metric) \n",
    "    classifier.fit(X_train,y_train)\n",
    "    \n",
    "    \n",
    "    params = classifier.cv_results_['params']\n",
    "    scores_params = classifier.cv_results_['mean_test_score']\n",
    "    print(\"\\nPuntuación para cada cuadricula de parametros:\")\n",
    "    for i in range(len(params)):\n",
    "        print(params[i], '-->', round(scores_params[i], 3) )\n",
    "        \n",
    "                \n",
    "    print(\"\\nMejores parametros\", classifier.best_params_)\n",
    "    \n",
    "    y_pred = classifier.predict(X_test)\n",
    "    print(\"\\nReporte de rendimiento:\\n\")\n",
    "    print(classification_report(y_test, y_pred))"
   ]
  },
  {
   "cell_type": "code",
   "execution_count": null,
   "metadata": {},
   "outputs": [],
   "source": []
  }
 ],
 "metadata": {
  "kernelspec": {
   "display_name": "Python 3",
   "language": "python",
   "name": "python3"
  },
  "language_info": {
   "codemirror_mode": {
    "name": "ipython",
    "version": 3
   },
   "file_extension": ".py",
   "mimetype": "text/x-python",
   "name": "python",
   "nbconvert_exporter": "python",
   "pygments_lexer": "ipython3",
   "version": "3.8.2"
  }
 },
 "nbformat": 4,
 "nbformat_minor": 4
}
