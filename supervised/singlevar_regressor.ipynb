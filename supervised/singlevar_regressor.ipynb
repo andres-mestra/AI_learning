{
 "cells": [
  {
   "cell_type": "markdown",
   "metadata": {},
   "source": [
    "# Construcción de un regresor variable"
   ]
  },
  {
   "cell_type": "code",
   "execution_count": 23,
   "metadata": {},
   "outputs": [],
   "source": [
    "import pickle\n",
    "import numpy as np\n",
    "from sklearn import linear_model\n",
    "import sklearn.metrics as sm\n",
    "import matplotlib.pyplot as plt"
   ]
  },
  {
   "cell_type": "code",
   "execution_count": 24,
   "metadata": {},
   "outputs": [],
   "source": [
    "#name file input data\n",
    "input_file = 'data_singlevar_regr.txt'\n",
    "\n",
    "data = np.loadtxt(input_file,delimiter=',')\n",
    "\n",
    "X, y = data[:, :-1], data[:,-1]\n",
    "\n",
    "#Train and test split\n",
    "num_training = int(0.8 * len(X))\n",
    "num_test = len(X) - num_training\n",
    "\n",
    "#Training data \n",
    "X_train, y_train = X[:num_training] , y[:num_training]\n",
    "\n",
    "#Test data\n",
    "X_test, y_test = X[num_training:] , y[num_training:]\n"
   ]
  },
  {
   "cell_type": "code",
   "execution_count": 25,
   "metadata": {},
   "outputs": [],
   "source": [
    "#Crea el regresor linear\n",
    "regressor  = linear_model.LinearRegression()\n",
    "#Entrenamiento\n",
    "regressor.fit(X_train, y_train)\n",
    "\n",
    "#Datos de predicción\n",
    "y_test_pred = regressor.predict(X_test)"
   ]
  },
  {
   "cell_type": "code",
   "execution_count": 26,
   "metadata": {},
   "outputs": [
    {
     "data": {
      "image/png": "[encoded data removed]",
      "text/plain": [
       "<Figure size 432x288 with 1 Axes>"
      ]
     },
     "metadata": {},
     "output_type": "display_data"
    }
   ],
   "source": [
    "#Graficar  resultado\n",
    "plt.scatter(X_test, y_test, color='green')\n",
    "plt.plot(X_test, y_test_pred, color='black', linewidth=4)\n",
    "plt.xticks(())\n",
    "plt.yticks(())\n",
    "plt.show()"
   ]
  },
  {
   "cell_type": "code",
   "execution_count": 28,
   "metadata": {},
   "outputs": [
    {
     "name": "stdout",
     "output_type": "stream",
     "text": [
      "Rendimiento del regresor lineal:\n",
      "Mean absolute error = 0.59\n",
      "Mean squared error = 0.49\n",
      "Median absolute error = 0.51\n",
      "Explain variance score = 0.86\n",
      "R2 score = 0.86\n"
     ]
    }
   ],
   "source": [
    "# Compute performance metrics\n",
    "print(\"Rendimiento del regresor lineal:\")\n",
    "print(\"Mean absolute error =\", round(sm.mean_absolute_error(y_test,\n",
    "y_test_pred), 2))\n",
    "print(\"Mean squared error =\", round(sm.mean_squared_error(y_test,\n",
    "y_test_pred), 2))\n",
    "print(\"Median absolute error =\", round(sm.median_absolute_error(y_test,\n",
    "y_test_pred), 2))\n",
    "print(\"Explain variance score =\", round(sm.explained_variance_score(y_test,\n",
    "y_test_pred), 2))\n",
    "print(\"R2 score =\", round(sm.r2_score(y_test, y_test_pred), 2))"
   ]
  },
  {
   "cell_type": "code",
   "execution_count": 33,
   "metadata": {},
   "outputs": [
    {
     "name": "stdout",
     "output_type": "stream",
     "text": [
      "\n",
      "New mean absolte error =  0.59\n"
     ]
    }
   ],
   "source": [
    "\"\"\"\n",
    "Es posible guardar el modelo anterior para usarlo luego\n",
    "esto se hace con el metodo pickle de python\n",
    "\"\"\"\n",
    "#name file save model\n",
    "output_model_file = 'model.pkl'\n",
    "\n",
    "#Save the model\n",
    "with open(output_model_file, 'wb') as f:\n",
    "    pickle.dump(regressor, f)\n",
    "\n",
    "#load the model\n",
    "with open(output_model_file, 'rb') as  f:\n",
    "    regressor_model = pickle.load(f)\n",
    "\n",
    "#Usando el modelo    \n",
    "y_test_pred_new = regressor_model.predict(X_test)\n",
    "print(\"\\nNew mean absolte error = \", round(sm.mean_absolute_error(  \n",
    "      y_test,y_test_pred_new),2))\n"
   ]
  },
  {
   "cell_type": "code",
   "execution_count": null,
   "metadata": {},
   "outputs": [],
   "source": []
  }
 ],
 "metadata": {
  "kernelspec": {
   "display_name": "Python 3",
   "language": "python",
   "name": "python3"
  },
  "language_info": {
   "codemirror_mode": {
    "name": "ipython",
    "version": 3
   },
   "file_extension": ".py",
   "mimetype": "text/x-python",
   "name": "python",
   "nbconvert_exporter": "python",
   "pygments_lexer": "ipython3",
   "version": "3.6.5"
  }
 },
 "nbformat": 4,
 "nbformat_minor": 2
}
