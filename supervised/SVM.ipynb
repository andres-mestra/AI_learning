{
 "cells": [
  {
   "cell_type": "markdown",
   "metadata": {},
   "source": [
    "#   Maquinas de vectores de soporte"
   ]
  },
  {
   "cell_type": "code",
   "execution_count": 10,
   "metadata": {},
   "outputs": [
    {
     "data": {
      "text/plain": [
       "'\\nConstruiremos un clasificador de máquinas de vectores de soporte \\npara predecir el nivel de ingresos de una persona determinada\\nen función de 14 atributos. Nuestro objetivo es ver \\ndónde el ingreso es mayor o menor que $ 50,000 por año\\n https://archive.ics.uci.edu/ml/datasets/Census+Income.\\n'"
      ]
     },
     "execution_count": 10,
     "metadata": {},
     "output_type": "execute_result"
    }
   ],
   "source": [
    "\"\"\"\n",
    "Construiremos un clasificador de máquinas de vectores de soporte \n",
    "para predecir el nivel de ingresos de una persona determinada\n",
    "en función de 14 atributos. Nuestro objetivo es ver \n",
    "dónde el ingreso es mayor o menor que $ 50,000 por año\n",
    " https://archive.ics.uci.edu/ml/datasets/Census+Income.\n",
    "\"\"\""
   ]
  },
  {
   "cell_type": "code",
   "execution_count": 86,
   "metadata": {},
   "outputs": [],
   "source": [
    "import numpy as np\n",
    "import matplotlib.pyplot as plt\n",
    "from sklearn import preprocessing\n",
    "from sklearn.svm import LinearSVC\n",
    "from sklearn.multiclass import OneVsOneClassifier\n",
    "from sklearn.model_selection import train_test_split\n",
    "from sklearn.model_selection import cross_val_score"
   ]
  },
  {
   "cell_type": "code",
   "execution_count": 112,
   "metadata": {},
   "outputs": [],
   "source": [
    "#datos\n",
    "input_file = 'income_data.txt'\n",
    "X = []\n",
    "y =  []\n",
    "count_class1 = 0\n",
    "count_class2 = 0\n",
    "max_datapoints = 25000\n",
    "data = np.load"
   ]
  },
  {
   "cell_type": "code",
   "execution_count": 113,
   "metadata": {},
   "outputs": [],
   "source": [
    "#Abrir el archivo y leer por lineas\n",
    "with open(input_file, 'r') as f:\n",
    "    for  line in f.readlines():\n",
    "        if count_class1 >= max_datapoints and count_class2 >= max_datapoints:\n",
    "            break\n",
    "        \n",
    "        if '?' in line:\n",
    "            continue\n",
    "        data = line[:-1].split(', ')\n",
    "        \n",
    "        if data[-1] == '<=50K' and count_class1 < max_datapoints:\n",
    "            X.append(data)\n",
    "            count_class1 += 1\n",
    "        if data[-1] == '>50K' and count_class2 < max_datapoints:\n",
    "            X.append(data)\n",
    "            count_class2 += 1\n",
    "            \n",
    "#Convierte  a un numpy  array para poder ser procesado por sklearn\n",
    "X = np.array(X)  "
   ]
  },
  {
   "cell_type": "code",
   "execution_count": 114,
   "metadata": {},
   "outputs": [],
   "source": [
    "#Codifica los campos String en numeros\n",
    "label_encoder = []\n",
    "X_encoded = np.empty(X.shape)\n",
    "for i, item in enumerate(X[0]):\n",
    "    if item.isdigit():\n",
    "        X_encoded[:,i] = X[:, i]\n",
    "    else:\n",
    "        label_encoder.append(preprocessing.LabelEncoder())\n",
    "        X_encoded[:, i] = label_encoder[-1].fit_transform(X[:, i])\n",
    "X = X_encoded[:, :-1].astype(int)\n",
    "y = X_encoded[:, -1].astype(int) \n"
   ]
  },
  {
   "cell_type": "code",
   "execution_count": 115,
   "metadata": {},
   "outputs": [
    {
     "data": {
      "text/plain": [
       "OneVsOneClassifier(estimator=LinearSVC(C=1.0, class_weight=None, dual=True, fit_intercept=True,\n",
       "     intercept_scaling=1, loss='squared_hinge', max_iter=1000,\n",
       "     multi_class='ovr', penalty='l2', random_state=0, tol=0.0001,\n",
       "     verbose=0),\n",
       "          n_jobs=-1)"
      ]
     },
     "execution_count": 115,
     "metadata": {},
     "output_type": "execute_result"
    }
   ],
   "source": [
    "#Crea el SVM con  linear kernel\n",
    "classifier = OneVsOneClassifier(LinearSVC(random_state=0),n_jobs=-1)\n",
    "#Entredando clasificador\n",
    "classifier.fit(X,y)"
   ]
  },
  {
   "cell_type": "code",
   "execution_count": 116,
   "metadata": {},
   "outputs": [],
   "source": [
    "#Validación cruzada \n",
    "X_train, X_test, y_train, y_test = train_test_split(X,y,\n",
    "test_size=0.2, random_state=5)\n",
    "classifier = OneVsOneClassifier(LinearSVC(random_state=0),n_jobs=-1)\n",
    "classifier.fit(X_train, y_train)\n",
    "y_test_pred = classifier.predict(X_test)"
   ]
  },
  {
   "cell_type": "code",
   "execution_count": 117,
   "metadata": {},
   "outputs": [
    {
     "name": "stdout",
     "output_type": "stream",
     "text": [
      "F1 score: 71.35%\n"
     ]
    }
   ],
   "source": [
    "#Puntuar F1 de clasificador \n",
    "f1 = cross_val_score(classifier,X,y,\n",
    "scoring='f1_weighted',cv=3)\n",
    "print(\"F1 score: \" + str(round(100*f1.mean(),2)) + \"%\") "
   ]
  },
  {
   "cell_type": "code",
   "execution_count": 125,
   "metadata": {},
   "outputs": [
    {
     "name": "stdout",
     "output_type": "stream",
     "text": [
      "['<=50K' '>50K']\n"
     ]
    }
   ],
   "source": [
    "input_data = ['37', 'Private', '215646', 'HS-grad', '9', 'Never-married', 'Handlers-cleaners', 'Not-in-family', 'White', 'Male', '0', '0', '40', 'United-States']\n",
    "\"\"\"\n",
    "Uso el ultimo de los datos reales disponibles\n",
    "que no se uso para el entrenamient de la IA\n",
    "para probar la predicción que segun la evaluación es \n",
    "71.35% acertada\n",
    "\"\"\"\n",
    "input_data_real = [\"52\", \"Self-emp-inc\", \"287927\", \"HS-grad\", \"9\", \"Married-civ-spouse\", \"Exec-managerial\", \"Wife\", \"White\", \"Female\", \"15024\", \"0\", \"40\", \"United-States\"]\n",
    "# Encode test datapoint\n",
    "input_data_encoded = [[-1] * len(input_data),[-1] * len(input_data)]\n",
    "count = 0\n",
    "for i, item in enumerate(input_data):\n",
    "    if item.isdigit():\n",
    "        input_data_encoded[0][i] = int(input_data[i])\n",
    "        input_data_encoded[1][i] = int(input_data_real[i])\n",
    "    else:\n",
    "        #print(label_encoder[count])\n",
    "        #print([input_data[i]])\n",
    "        #print(label_encoder[count].transform([np.array(input_data[i])]))\n",
    "        input_data_encoded[0][i] = int(label_encoder[count].transform([input_data[i]]))\n",
    "        input_data_encoded[1][i] = int(label_encoder[count].transform([input_data_real[i]]))\n",
    "        count += 1\n",
    "input_data_encoded = np.array(input_data_encoded)\n",
    "#prediccion con dato aleatorio sera la posición 0, y la real  1\n",
    "predicted_class = classifier.predict(input_data_encoded)\n",
    "print(label_encoder[-1].inverse_transform(predicted_class))"
   ]
  }
 ],
 "metadata": {
  "kernelspec": {
   "display_name": "Python 3",
   "language": "python",
   "name": "python3"
  },
  "language_info": {
   "codemirror_mode": {
    "name": "ipython",
    "version": 3
   },
   "file_extension": ".py",
   "mimetype": "text/x-python",
   "name": "python",
   "nbconvert_exporter": "python",
   "pygments_lexer": "ipython3",
   "version": "3.6.5"
  }
 },
 "nbformat": 4,
 "nbformat_minor": 2
}
