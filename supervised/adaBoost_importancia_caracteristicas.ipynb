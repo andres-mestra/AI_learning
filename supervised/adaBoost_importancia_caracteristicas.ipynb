{
 "cells": [
  {
   "cell_type": "markdown",
   "metadata": {},
   "source": [
    "# Importancia relativa de los datos"
   ]
  },
  {
   "cell_type": "markdown",
   "metadata": {},
   "source": [
    "Usaremos un regresor AdaBoost (adaptive Boosting)  para determinar la relevancia de los datos que se usan para clasificar puesto que en algunos casos son irrelevantes, entonces reduciendo las dimensiones podemos hacer que el algoritmo funcione mas rapido."
   ]
  },
  {
   "cell_type": "code",
   "execution_count": 1,
   "metadata": {},
   "outputs": [],
   "source": [
    "import numpy as np\n",
    "import matplotlib.pyplot as plt\n",
    "from sklearn.tree import DecisionTreeRegressor\n",
    "from sklearn.ensemble import AdaBoostRegressor\n",
    "from sklearn import datasets\n",
    "from sklearn.metrics import mean_squared_error, explained_variance_score\n",
    "from sklearn.model_selection import train_test_split\n",
    "from sklearn.utils import shuffle"
   ]
  },
  {
   "cell_type": "code",
   "execution_count": 3,
   "metadata": {},
   "outputs": [],
   "source": [
    "#Abrimos los datos a usar \n",
    "housing_data = datasets.load_boston()\n",
    "\n",
    "#Mezclamos los datos para no sesgar el analizador \n",
    "X,y = shuffle(housing_data.data, housing_data.target, random_state=7)\n",
    "\n",
    "#dividimos los datos \n",
    "X_train, X_test, y_train, y_test = train_test_split(X,y, test_size=0.2, random_state=7)\n"
   ]
  },
  {
   "cell_type": "code",
   "execution_count": 5,
   "metadata": {},
   "outputs": [
    {
     "data": {
      "text/plain": [
       "AdaBoostRegressor(base_estimator=DecisionTreeRegressor(max_depth=4),\n",
       "                  n_estimators=400, random_state=7)"
      ]
     },
     "execution_count": 5,
     "metadata": {},
     "output_type": "execute_result"
    }
   ],
   "source": [
    "#Creamos el regresor AdaBoost\n",
    "regressor = AdaBoostRegressor(DecisionTreeRegressor(max_depth=4), n_estimators=400, random_state=7)\n",
    "regressor.fit(X_train, y_train)"
   ]
  },
  {
   "cell_type": "code",
   "execution_count": 6,
   "metadata": {},
   "outputs": [
    {
     "name": "stdout",
     "output_type": "stream",
     "text": [
      "\n",
      "ADABOOST REGRESSOR\n",
      "Error cuadratico medio =  22.7\n",
      "Puntaje de varianza =  0.79\n"
     ]
    }
   ],
   "source": [
    "#Evaluamos el rendimiento del regresor\n",
    "y_pred = regressor.predict(X_test)\n",
    "mse = mean_squared_error(y_test, y_pred)\n",
    "evs = explained_variance_score(y_test, y_pred)\n",
    "print(\"\\nADABOOST REGRESSOR\")\n",
    "print(\"Error cuadratico medio = \",round(mse, 2))\n",
    "print(\"Puntaje de varianza = \", round(evs, 2))"
   ]
  },
  {
   "cell_type": "code",
   "execution_count": 12,
   "metadata": {},
   "outputs": [
    {
     "data": {
      "text/plain": [
       "Text(0.5, 1.0, 'Importancia de las caracteristicas usando resgresor AdaBoost')"
      ]
     },
     "execution_count": 12,
     "metadata": {},
     "output_type": "execute_result"
    },
    {
     "data": {
      "image/png": "[encoded data removed]",
      "text/plain": [
       "<Figure size 432x288 with 1 Axes>"
      ]
     },
     "metadata": {
      "needs_background": "light"
     },
     "output_type": "display_data"
    }
   ],
   "source": [
    "#Extraer las caracteristicas importantes \n",
    "feature_importances = regressor.feature_importances_\n",
    "feature_names = housing_data.feature_names\n",
    "\n",
    "#Normalizamos la importancia\n",
    "feature_importances = 100.0 * (feature_importances / max(feature_importances))\n",
    "\n",
    "#Ordenar \n",
    "index_sorted = np.flipud(np.argsort(feature_importances))\n",
    "pos = np.arange(index_sorted.shape[0]) + 0.5\n",
    "\n",
    "#Grafico de barras\n",
    "plt.figure()\n",
    "plt.bar(pos, feature_importances[index_sorted], align='center')\n",
    "plt.xticks(pos, feature_names[index_sorted])\n",
    "plt.ylabel('Importancia Relativa')\n",
    "plt.title('Importancia de las caracteristicas usando resgresor AdaBoost')"
   ]
  },
  {
   "cell_type": "code",
   "execution_count": null,
   "metadata": {},
   "outputs": [],
   "source": []
  }
 ],
 "metadata": {
  "kernelspec": {
   "display_name": "Python 3",
   "language": "python",
   "name": "python3"
  },
  "language_info": {
   "codemirror_mode": {
    "name": "ipython",
    "version": 3
   },
   "file_extension": ".py",
   "mimetype": "text/x-python",
   "name": "python",
   "nbconvert_exporter": "python",
   "pygments_lexer": "ipython3",
   "version": "3.8.2"
  }
 },
 "nbformat": 4,
 "nbformat_minor": 4
}
