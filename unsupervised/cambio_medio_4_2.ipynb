{
 "cells": [
  {
   "cell_type": "markdown",
   "metadata": {},
   "source": [
    "# Mean Shift\n",
    "\n",
    "Este algoritmo es usado en aprendizaje no supervisado, No es parametrico puesto no genera un supuesto sobre las distribuciones subyacentes.\n",
    "\n",
    "Este metodo considera el espacio como una función de desidad de probabilidad. En este caso si hay K grupos , entonces hay K picos(maximos locales) en la distribución.\n",
    "\n",
    "Los puntos se moveran a la region que pertenecen segun los centroides moviendose a una región de mayor densidad \n",
    "de probabilidad."
   ]
  },
  {
   "cell_type": "code",
   "execution_count": 4,
   "metadata": {},
   "outputs": [],
   "source": [
    "import numpy as np \n",
    "import matplotlib.pyplot as plt\n",
    "from sklearn.cluster import MeanShift, estimate_bandwidth\n",
    "from itertools import cycle"
   ]
  },
  {
   "cell_type": "code",
   "execution_count": 6,
   "metadata": {},
   "outputs": [],
   "source": [
    "#Datos\n",
    "X = np.loadtxt('data_clustering.txt',delimiter=',')"
   ]
  },
  {
   "cell_type": "markdown",
   "metadata": {},
   "source": [
    "* Bandwidth(ancho de banda): Este parametro afecta la tasa de convergencia del algoritmo y el número de grupos, si el ancho de banda es pequeño puede resultar en demaciados grupos y  si es muy grande puede causar la fución de algunos grupos; por esto es cruial\n",
    "\n",
    "* Quantile: impacta cómo se estima el ancho de banda. Un valor más alto paraCuantil aumentará el ancho de banda estimado, resultando en un menor número de grupos"
   ]
  },
  {
   "cell_type": "code",
   "execution_count": 9,
   "metadata": {},
   "outputs": [
    {
     "name": "stdout",
     "output_type": "stream",
     "text": [
      "\n",
      "Centros de grupos:\n",
      " [[2.95568966 1.95775862]\n",
      " [7.20690909 2.20836364]\n",
      " [2.17603774 8.03283019]\n",
      " [5.97960784 8.39078431]\n",
      " [4.99466667 4.65844444]]\n"
     ]
    }
   ],
   "source": [
    "bandwidth_X = estimate_bandwidth(X, quantile=0.1, n_samples=len(X))\n",
    "\n",
    "#Entrenamiento de Mean Shift usando el ancho de banda estimado \n",
    "meanshift_model = MeanShift(bandwidth=bandwidth_X, bin_seeding=True)\n",
    "meanshift_model.fit(X)\n",
    "\n",
    "#Centros de grupos estimados\n",
    "cluster_centers = meanshift_model.cluster_centers_\n",
    "print('\\nCentros de grupos:\\n',cluster_centers)"
   ]
  },
  {
   "cell_type": "code",
   "execution_count": 10,
   "metadata": {},
   "outputs": [
    {
     "name": "stdout",
     "output_type": "stream",
     "text": [
      "\n",
      "Numero de grupos en los datos de entrada= 5\n"
     ]
    }
   ],
   "source": [
    "#Numero de grupos estimados\n",
    "#etiquetas de datos\n",
    "labels = meanshift_model.labels_\n",
    "num_clusters = len(np.unique(labels))\n",
    "print(\"\\nNumero de grupos en los datos de entrada=\", num_clusters)"
   ]
  },
  {
   "cell_type": "code",
   "execution_count": 18,
   "metadata": {},
   "outputs": [
    {
     "data": {
      "text/plain": [
       "Text(0.5, 1.0, 'Grupos')"
      ]
     },
     "execution_count": 18,
     "metadata": {},
     "output_type": "execute_result"
    },
    {
     "data": {
      "image/png": "[encoded data removed]",
      "text/plain": [
       "<Figure size 432x288 with 1 Axes>"
      ]
     },
     "metadata": {
      "needs_background": "light"
     },
     "output_type": "display_data"
    }
   ],
   "source": [
    "#Visualizar datos\n",
    "plt.figure()\n",
    "markers = 'o*xvs'\n",
    "\n",
    "for i , markers in zip(range(num_clusters), markers):\n",
    "    #Se ubican en el grafico los puntos del grupo actual\n",
    "    plt.scatter(X[labels==i, 0], X[labels==i, 1], marker=markers, color='black')\n",
    "    #Se ubican los centros de los grupos\n",
    "    cluster_center = cluster_centers[i]\n",
    "    plt.plot(cluster_center[0], cluster_center[1], marker='o', markerfacecolor='black', \n",
    "             markeredgecolor='black', markersize=15)\n",
    "plt.title('Grupos')"
   ]
  },
  {
   "cell_type": "code",
   "execution_count": null,
   "metadata": {},
   "outputs": [],
   "source": []
  }
 ],
 "metadata": {
  "kernelspec": {
   "display_name": "Python 3",
   "language": "python",
   "name": "python3"
  },
  "language_info": {
   "codemirror_mode": {
    "name": "ipython",
    "version": 3
   },
   "file_extension": ".py",
   "mimetype": "text/x-python",
   "name": "python",
   "nbconvert_exporter": "python",
   "pygments_lexer": "ipython3",
   "version": "3.8.2"
  }
 },
 "nbformat": 4,
 "nbformat_minor": 4
}
