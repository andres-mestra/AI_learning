{
 "cells": [
  {
   "cell_type": "markdown",
   "metadata": {},
   "source": [
    "# Calcular puntaje de similitud"
   ]
  },
  {
   "cell_type": "code",
   "execution_count": 1,
   "metadata": {},
   "outputs": [],
   "source": [
    "import json\n",
    "import numpy as np"
   ]
  },
  {
   "cell_type": "code",
   "execution_count": 12,
   "metadata": {},
   "outputs": [],
   "source": [
    "#Definimos una función para calcular la puntuación euclidiana entre usuarios de entrada\n",
    "#Si los usuarios no estan en los datos, arroja error\n",
    "def euclidean_score(dataset,user1, user2):\n",
    "    if user1 not in dataset:\n",
    "        raise TypeError('Cannot find '+user1+' in the dataset')\n",
    "        \n",
    "    if user2 not in dataset:\n",
    "        raise TypeError('Cannot find '+user2+' in the dataset')\n",
    "        \n",
    "    #Peliculas clasificadas por ambos usuarios\n",
    "    common_movies = {}\n",
    "    for item in dataset[user1]:\n",
    "        if item in dataset[user2]:\n",
    "            common_movies[item] = 1\n",
    "    \n",
    "    #Extracción de las peliculas clasificadas por los usuarios\n",
    "    if len(common_movies) == 0:\n",
    "        return 0\n",
    "    \n",
    "    #Calcular las diferencias cuadráticas entre las clasificaciones y para calcular la Euclídea Puntuación\n",
    "    squared_diff = []\n",
    "    for item in dataset[user1]:\n",
    "        if item in dataset[user2]:\n",
    "            squared_diff.append(np.square(dataset[user1][item] - dataset[user2][item]))\n",
    "    \n",
    "    return 1 / (1 + np.sqrt(np.sum(squared_diff)))"
   ]
  },
  {
   "cell_type": "code",
   "execution_count": 13,
   "metadata": {},
   "outputs": [],
   "source": [
    "#Funcion para calcular la puntuación de Pearson\n",
    "\n",
    "def pearson_score(dataset, user1, user2):\n",
    "    if user1 not in dataset:\n",
    "        raise TypeError('Cannot find '+user1+' in the dataset')\n",
    "        \n",
    "    if user2 not in dataset:\n",
    "        raise TypeError('Cannot find '+user2+' in the dataset')\n",
    "    common_movies = {}\n",
    "    \n",
    "    for item in dataset[user1]:\n",
    "        if item in dataset[user2]:\n",
    "            common_movies[item] = 1\n",
    "    \n",
    "    num_ratings = len(common_movies)\n",
    "    if num_ratings == 0:\n",
    "        return 0\n",
    "    #Calcular la suma de calificaciones de todas las películas que han sido calificadas por ambos usuarios\n",
    "    user1_sum = np.sum([dataset[user1][item] for item in common_movies ])\n",
    "    user2_sum = np.sum([dataset[user2][item] for item in common_movies ])\n",
    "    \n",
    "    #Calcular la suma de los cuadrados de las calificaciones de todas las películas que han sido calificadas por ambos usuarios\n",
    "    user1_squared_sum = np.sum([np.square(dataset[user1][item]) for item in common_movies])\n",
    "    user2_squared_sum = np.sum([np.square(dataset[user2][item]) for item in common_movies])\n",
    "    \n",
    "    #Calcular la suma de productos de las clasificaciones de las películas comunes\n",
    "    sum_of_products = np.sum([dataset[user1][item] * dataset[user2][item] for item in common_movies])\n",
    "    \n",
    "    # Calculate the Pearson correlation score\n",
    "    Sxy = sum_of_products - (user1_sum * user2_sum / num_ratings)\n",
    "    Sxx = user1_squared_sum - np.square(user1_sum) / num_ratings\n",
    "    Syy = user2_squared_sum - np.square(user2_sum) / num_ratings\n",
    "    \n",
    "    if Sxx * Syy == 0:\n",
    "        return 0\n",
    "    return Sxy / np.sqrt(Sxx * Syy)\n"
   ]
  },
  {
   "cell_type": "code",
   "execution_count": 14,
   "metadata": {},
   "outputs": [],
   "source": [
    "#Datos\n",
    "ratings_file = 'ratings.json'\n",
    "\n",
    "with open (ratings_file, 'r') as f:\n",
    "    data = json.loads(f.read())\n"
   ]
  },
  {
   "cell_type": "code",
   "execution_count": 15,
   "metadata": {},
   "outputs": [],
   "source": [
    "def score(data, user1,user2,score_type):\n",
    "    if score_type == 'Euclidean':\n",
    "         print(\"\\nEuclidean score:\")\n",
    "         print(euclidean_score(data, user1, user2))\n",
    "    else:\n",
    "         print(\"\\nPearson score:\")\n",
    "         print(pearson_score(data, user1, user2))\n",
    "    "
   ]
  },
  {
   "cell_type": "code",
   "execution_count": 16,
   "metadata": {},
   "outputs": [
    {
     "name": "stdout",
     "output_type": "stream",
     "text": [
      "\n",
      "Euclidean score:\n",
      "0.585786437626905\n"
     ]
    }
   ],
   "source": [
    "score(data, \"David Smith\", \"Bill Duffy\",'Euclidean')"
   ]
  },
  {
   "cell_type": "code",
   "execution_count": 17,
   "metadata": {},
   "outputs": [
    {
     "name": "stdout",
     "output_type": "stream",
     "text": [
      "\n",
      "Pearson score:\n",
      "0.9909924304103233\n"
     ]
    }
   ],
   "source": [
    "score(data, \"David Smith\", \"Bill Duffy\",'Pearson')"
   ]
  },
  {
   "cell_type": "code",
   "execution_count": null,
   "metadata": {},
   "outputs": [],
   "source": []
  }
 ],
 "metadata": {
  "kernelspec": {
   "display_name": "Python 3",
   "language": "python",
   "name": "python3"
  },
  "language_info": {
   "codemirror_mode": {
    "name": "ipython",
    "version": 3
   },
   "file_extension": ".py",
   "mimetype": "text/x-python",
   "name": "python",
   "nbconvert_exporter": "python",
   "pygments_lexer": "ipython3",
   "version": "3.8.2"
  }
 },
 "nbformat": 4,
 "nbformat_minor": 4
}
