{
 "metadata": {
  "language_info": {
   "codemirror_mode": {
    "name": "ipython",
    "version": 3
   },
   "file_extension": ".py",
   "mimetype": "text/x-python",
   "name": "python",
   "nbconvert_exporter": "python",
   "pygments_lexer": "ipython3",
   "version": "3.8.2-final"
  },
  "orig_nbformat": 2,
  "kernelspec": {
   "name": "python3",
   "display_name": "Python 3"
  }
 },
 "nbformat": 4,
 "nbformat_minor": 2,
 "cells": [
  {
   "source": [
    "## Filtración colaborativa para encontrar usuarios similares\n",
    "\n",
    "Esto se refiere al proceso de identificar patrones entre dos objetos en un conjunto de datos para tomar una decisión sobre un nuevo objeto.\n",
    "\n",
    "En esta aplicación por ejemplo si dos personas tienen calificaciones similares para un conjunto de películas entonces es muy posible que su elección para un nuevo conjunto de películas sea similar también."
   ],
   "cell_type": "markdown",
   "metadata": {}
  },
  {
   "cell_type": "code",
   "execution_count": 2,
   "metadata": {},
   "outputs": [],
   "source": [
    "import json\n",
    "import numpy as np \n",
    "#Importamos las funcion creada para calcular el puntaje de similitud, metodo de pearso\n",
    "from compute_scores import pearson_score"
   ]
  },
  {
   "cell_type": "code",
   "execution_count": 3,
   "metadata": {},
   "outputs": [],
   "source": [
    "#Definición de función para buscar los usuarios similares a el usuario indicado\n",
    "def find_similar_users(dataset, user, num_users):\n",
    "    if user not in dataset:\n",
    "        raise TypeError('No se encontro el '+user+' en el conjunto de datos')\n",
    "    #Calcula el puntaje de similitud respecto a cada usuario con el metodo de pearson\n",
    "    scores = np.array([[x, pearson_score(dataset, user,x)] for x in dataset if x != user])\n",
    "\n",
    "    #Ordena las puntuaciones\n",
    "    scores_sorted = np.argsort(scores[:,1])[::-1]\n",
    "\n",
    "    #Extrae las mejores puntuaciones \n",
    "    top_users = scores_sorted[:num_users]\n",
    "    return scores[top_users]"
   ]
  },
  {
   "cell_type": "code",
   "execution_count": 8,
   "metadata": {},
   "outputs": [
    {
     "output_type": "stream",
     "name": "stdout",
     "text": [
      "\nUsuarios similares para Bill Duffy:\n\n-----------------------------------------\nDavid Smith \t\t 0.99\nSamuel Miller \t\t 0.88\nAdam Cohen \t\t 0.86\n"
     ]
    }
   ],
   "source": [
    "\n",
    "def print_salida(user, data, num_users):\n",
    "    print('\\nUsuarios similares para '+ user + ':\\n')\n",
    "    similar_users = find_similar_users(data, user, num_users)\n",
    "    print('-'*41)\n",
    "    for item in similar_users:\n",
    "        print(item[0], '\\t\\t', round(float(item[1]), 2))\n",
    "\n",
    "ratings_file = \"ratings.json\"\n",
    "\n",
    "with open(ratings_file, 'r') as f:\n",
    "    data = json.loads(f.read())\n",
    "\n",
    "user = \"Bill Duffy\"\n",
    "\n",
    "print_salida(user, data, 3)"
   ]
  },
  {
   "cell_type": "code",
   "execution_count": 9,
   "metadata": {},
   "outputs": [
    {
     "output_type": "stream",
     "name": "stdout",
     "text": [
      "\nUsuarios similares para Clarissa Jackson:\n\n-----------------------------------------\nChris Duncan \t\t 1.0\nBill Duffy \t\t 0.83\nSamuel Miller \t\t 0.73\nDavid Smith \t\t 0.69\nAdam Cohen \t\t 0.47\n"
     ]
    }
   ],
   "source": [
    "print_salida(\"Clarissa Jackson\", data, 5)"
   ]
  },
  {
   "cell_type": "code",
   "execution_count": null,
   "metadata": {},
   "outputs": [],
   "source": []
  }
 ]
}