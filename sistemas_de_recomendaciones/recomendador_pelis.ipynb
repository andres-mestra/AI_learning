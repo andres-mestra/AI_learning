{
 "metadata": {
  "language_info": {
   "codemirror_mode": {
    "name": "ipython",
    "version": 3
   },
   "file_extension": ".py",
   "mimetype": "text/x-python",
   "name": "python",
   "nbconvert_exporter": "python",
   "pygments_lexer": "ipython3",
   "version": "3.8.5-final"
  },
  "orig_nbformat": 2,
  "kernelspec": {
   "name": "python3",
   "display_name": "Python 3"
  }
 },
 "nbformat": 4,
 "nbformat_minor": 2,
 "cells": [
  {
   "source": [
    "## Sistema de recomendación de peliculas\n",
    "\n",
    "Cuando se necesita recomendar peliculas a un usuario, necesitamos encontar usuarios similares en el conjunto de datos y luego llegar a recomendaciones."
   ],
   "cell_type": "markdown",
   "metadata": {}
  },
  {
   "cell_type": "code",
   "execution_count": 1,
   "metadata": {},
   "outputs": [],
   "source": [
    "import json\n",
    "import numpy as np\n",
    "from compute_scores import pearson_score\n",
    "from collaborative_filtering import find_similar_users"
   ]
  },
  {
   "cell_type": "code",
   "execution_count": 11,
   "metadata": {},
   "outputs": [],
   "source": [
    "#Obtener las peliculas recomendadas de un usuario\n",
    "def get_recommendations(dataset, input_user):\n",
    "    if input_user not in dataset:\n",
    "        raise TypeError('No se encontro el '+input_user+' in los datos')\n",
    "    overall_scores = {}\n",
    "    similarity_scores = {}\n",
    "\n",
    "    #Calculamos el puntaje de similitud entre el usuario de entrada y los demas usuarios\n",
    "    for user in [x for x in dataset if x != input_user]:\n",
    "        similarity_score = pearson_score(dataset, input_user, user)\n",
    "\n",
    "        if similarity_score <= 0:\n",
    "            continue\n",
    "        #extrae las peliculas que han sido calificadas por los otros usuarios pero no por el usuario de entrada \n",
    "        filtered_list = [x for x in dataset[user] if x not in  dataset[input_user] or dataset[input_user][x] == 0]\n",
    "        for item in filtered_list:\n",
    "            overall_scores.update({item: dataset[user][item]* similarity_score})\n",
    "            similarity_scores.update({item: similarity_score})\n",
    "    \n",
    "    if len(overall_scores) == 0:\n",
    "        return ['No se encontraron recomendaciones']\n",
    "    \n",
    "    movie_scores = np.array([[score/similarity_scores[item], item] for item, score in overall_scores.items()])\n",
    "\n",
    "    #ordena la partituras y extrae las recomendaciones de peliculas\n",
    "    movie_scores = movie_scores[np.argsort(movie_scores[:,0])[::-1]]\n",
    "    movie_recommendations = [movie for _, movie in movie_scores]\n",
    "\n",
    "    return movie_recommendations\n"
   ]
  },
  {
   "cell_type": "code",
   "execution_count": 12,
   "metadata": {},
   "outputs": [],
   "source": [
    "def salida(dataset, user):\n",
    "    print(\"\\nPeliculas recomendadas para \"+user+\":\")\n",
    "    movies =get_recommendations(dataset,user)\n",
    "    for i, movie in enumerate(movies):\n",
    "        print(str(i+1)+ '. '+movie)"
   ]
  },
  {
   "cell_type": "code",
   "execution_count": 13,
   "metadata": {},
   "outputs": [
    {
     "output_type": "stream",
     "name": "stdout",
     "text": [
      "\nPeliculas recomendadas para Chris Duncan:\n1. Vertigo\n2. Scarface\n3. Goodfellas\n4. Roman Holiday\n"
     ]
    }
   ],
   "source": [
    "ratings_file = 'ratings.json'\n",
    "with open(ratings_file, 'r') as f:\n",
    "    data = json.loads(f.read())\n",
    "\n",
    "salida(data, \"Chris Duncan\")"
   ]
  },
  {
   "cell_type": "code",
   "execution_count": null,
   "metadata": {},
   "outputs": [],
   "source": []
  },
  {
   "cell_type": "code",
   "execution_count": null,
   "metadata": {},
   "outputs": [],
   "source": []
  }
 ]
}