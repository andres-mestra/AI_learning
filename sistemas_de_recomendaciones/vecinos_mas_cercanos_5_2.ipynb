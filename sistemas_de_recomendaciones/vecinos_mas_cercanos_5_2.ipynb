{
 "cells": [
  {
   "cell_type": "markdown",
   "metadata": {},
   "source": [
    "# Vecinos mas cercanos\n",
    "\n",
    "Los sistemas de recomendación utilizan el concepto de vecinos mas cercanos para encontrar recomendaciones, es decir encontrar los puntos mas cercacos a un punto dentro del grupo de conjunto de datos.\n",
    "\n",
    "Se usa para construir sistemas de clasificación que usan la proximidad del punto de datos de entrada a varias clases."
   ]
  },
  {
   "cell_type": "code",
   "execution_count": 1,
   "metadata": {},
   "outputs": [],
   "source": [
    "import numpy as np\n",
    "import matplotlib.pyplot as plt\n",
    "from sklearn.neighbors import NearestNeighbors"
   ]
  },
  {
   "cell_type": "code",
   "execution_count": 5,
   "metadata": {},
   "outputs": [],
   "source": [
    "#Datos \n",
    "X = np.array([[2.1, 1.3], [1.3, 3.2], [2.9, 2.5], [2.7, 5.4], [3.8, 0.9],\n",
    " [7.3, 2.1], [4.2, 6.5], [3.8, 3.7], [2.5, 4.1], [3.4, 1.9],\n",
    " [5.7, 3.5], [6.1, 4.3], [5.1, 2.2], [6.2, 1.1]])\n",
    "\n",
    "#Numero de vecinos mas cercanos que se buscaran \n",
    "k = 5\n",
    "#Punto de prueba\n",
    "test_datapoint = [[4.3, 2.7]]"
   ]
  },
  {
   "cell_type": "code",
   "execution_count": 6,
   "metadata": {},
   "outputs": [
    {
     "data": {
      "text/plain": [
       "<matplotlib.collections.PathCollection at 0x7f12b3d48910>"
      ]
     },
     "execution_count": 6,
     "metadata": {},
     "output_type": "execute_result"
    },
    {
     "data": {
      "image/png": "[encoded data removed]",
      "text/plain": [
       "<Figure size 432x288 with 1 Axes>"
      ]
     },
     "metadata": {
      "needs_background": "light"
     },
     "output_type": "display_data"
    }
   ],
   "source": [
    "#Graficamos los puntos\n",
    "plt.figure()\n",
    "plt.title('Datos')\n",
    "plt.scatter(X[:,0], X[:,1], marker='o', s=75, color='blue')"
   ]
  },
  {
   "cell_type": "code",
   "execution_count": 11,
   "metadata": {},
   "outputs": [
    {
     "name": "stdout",
     "output_type": "stream",
     "text": [
      "\n",
      "k vecinos mas cercanos:\n",
      "1 ==> [5.1 2.2]\n",
      "2 ==> [3.8 3.7]\n",
      "3 ==> [3.4 1.9]\n",
      "4 ==> [2.9 2.5]\n",
      "5 ==> [5.7 3.5]\n"
     ]
    }
   ],
   "source": [
    "#Construimos el modelo de vecinos mas cercanos\n",
    "knn_model = NearestNeighbors(n_neighbors=k, algorithm='ball_tree').fit(X)\n",
    "distances, indices = knn_model.kneighbors(test_datapoint)\n",
    "\n",
    "#Imprimimos los k vecinos mas cercanos\n",
    "print(\"\\nk vecinos mas cercanos:\")\n",
    "for rank, index in enumerate(indices[0][:k], start=1):\n",
    "    print(str(rank) + \" ==>\", X[index])"
   ]
  },
  {
   "cell_type": "code",
   "execution_count": 23,
   "metadata": {},
   "outputs": [
    {
     "data": {
      "text/plain": [
       "<matplotlib.collections.PathCollection at 0x7f12b3ac26d0>"
      ]
     },
     "execution_count": 23,
     "metadata": {},
     "output_type": "execute_result"
    },
    {
     "data": {
      "image/png": "[encoded data removed]",
      "text/plain": [
       "<Figure size 432x288 with 1 Axes>"
      ]
     },
     "metadata": {
      "needs_background": "light"
     },
     "output_type": "display_data"
    }
   ],
   "source": [
    "plt.figure()\n",
    "plt.title('Vecinos cercanos')\n",
    "plt.scatter(X[:, 0], X[:, 1], marker='o', s=75, color='k')\n",
    "plt.scatter(X[indices][0][:][:, 0], X[indices][0][:][:, 1],marker='o', s=250, color='blue', facecolors='none')\n",
    "plt.scatter(test_datapoint[0][0], test_datapoint[0][1], marker='x', s=75, color='red')"
   ]
  },
  {
   "cell_type": "code",
   "execution_count": null,
   "metadata": {},
   "outputs": [],
   "source": []
  }
 ],
 "metadata": {
  "kernelspec": {
   "display_name": "Python 3",
   "language": "python",
   "name": "python3"
  },
  "language_info": {
   "codemirror_mode": {
    "name": "ipython",
    "version": 3
   },
   "file_extension": ".py",
   "mimetype": "text/x-python",
   "name": "python",
   "nbconvert_exporter": "python",
   "pygments_lexer": "ipython3",
   "version": "3.8.2"
  }
 },
 "nbformat": 4,
 "nbformat_minor": 4
}
