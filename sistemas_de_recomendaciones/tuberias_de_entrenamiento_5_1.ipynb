{
 "cells": [
  {
   "cell_type": "markdown",
   "metadata": {},
   "source": [
    "# Tubería de entrenamiento\n",
    "\n",
    "En los sistemas de aprendizaje automatico usualmente se crean utilizando diferentes modulos, la biblioteca scikit-learn tiene funciones que nos permiten juntar modulos y construir las llamadas tuberias.\n",
    "\n",
    "La canalización puede incluir módulos que realizan varias funciones como la selección de características,preprocesamiento, bosques aleatorios, agrupamiento, etc."
   ]
  },
  {
   "cell_type": "code",
   "execution_count": 2,
   "metadata": {},
   "outputs": [],
   "source": [
    "import numpy as np\n",
    "import matplotlib.pyplot as plt\n",
    "\n",
    "from sklearn.datasets import samples_generator\n",
    "from sklearn.feature_selection import SelectKBest, f_regression\n",
    "from sklearn.pipeline import Pipeline\n",
    "from sklearn.ensemble import ExtraTreesClassifier\n",
    "from sklearn.metrics import classification_report"
   ]
  },
  {
   "cell_type": "code",
   "execution_count": 3,
   "metadata": {},
   "outputs": [],
   "source": [
    "#Creamos 150 puntos de 25 dimensiones y de 3 clases distintas\n",
    "X, y = samples_generator.make_classification(n_samples=150, n_features=25, n_classes=3, n_informative=6,\n",
    "                        n_redundant=0, random_state=7)"
   ]
  },
  {
   "cell_type": "code",
   "execution_count": 4,
   "metadata": {},
   "outputs": [
    {
     "data": {
      "text/plain": [
       "Pipeline(steps=[('selector',\n",
       "                 SelectKBest(k=7,\n",
       "                             score_func=<function f_regression at 0x7f5f7dc8a430>)),\n",
       "                ('erf', ExtraTreesClassifier(max_depth=4, n_estimators=30))])"
      ]
     },
     "execution_count": 4,
     "metadata": {},
     "output_type": "execute_result"
    }
   ],
   "source": [
    "#El primer componente de la tuberia es el selector de caracteristicas \n",
    "#este selecciona las mejores caracteristicas de K caracteristicas.\n",
    "#establecemos k como 9 \n",
    "k_best_selector = SelectKBest(f_regression, k=9)\n",
    "\n",
    "#Creamos el clasificador de bosque extremadamente aleatorio\n",
    "classifier = ExtraTreesClassifier(n_estimators=60, max_depth=4)\n",
    "\n",
    "#Construimos la tuberia\n",
    "processor_pipeline = Pipeline([('selector', k_best_selector),('erf', classifier)])\n",
    "\n",
    "#Podemos cambiar ls parametros de los bloques individuales\n",
    "#cambiemos k del primer bloque\n",
    "#cambiemos los estimadores en el segundo bloque\n",
    "processor_pipeline.set_params(selector__k=7, erf__n_estimators=30)\n",
    "\n",
    "#Entrenamos la tuberia \n",
    "processor_pipeline.fit(X,y)"
   ]
  },
  {
   "cell_type": "code",
   "execution_count": 5,
   "metadata": {},
   "outputs": [
    {
     "name": "stdout",
     "output_type": "stream",
     "text": [
      "\n",
      "Predicted output:\n",
      " [0 2 2 0 2 0 2 1 0 1 1 2 2 0 2 2 1 0 1 1 0 2 1 0 2 2 0 0 1 2 1 0 1 0 2 2 1\n",
      " 1 2 2 2 0 1 0 2 1 1 2 1 0 1 2 2 2 2 0 2 2 0 2 2 0 1 0 2 2 1 1 1 2 0 1 0 2\n",
      " 0 0 1 2 2 0 0 1 2 2 2 0 0 0 2 2 2 1 2 0 2 0 2 2 1 0 1 1 1 1 2 2 2 2 0 1 1\n",
      " 0 2 1 0 0 1 1 1 1 0 0 0 1 2 0 0 0 2 1 2 0 0 0 0 1 1 0 1 1 1 1 2 0 0 1 2 0\n",
      " 2 2]\n",
      "\n",
      "Calificación: 0.8866666666666667\n"
     ]
    }
   ],
   "source": [
    "#Predecir la salida de los datos de entrada \n",
    "output = processor_pipeline.predict(X)\n",
    "print(\"\\nPredicted output:\\n\", output)\n",
    "print(\"\\nCalificación:\", processor_pipeline.score(X,y))"
   ]
  },
  {
   "cell_type": "code",
   "execution_count": 7,
   "metadata": {},
   "outputs": [
    {
     "name": "stdout",
     "output_type": "stream",
     "text": [
      "              precision    recall  f1-score   support\n",
      "\n",
      "           0       0.90      0.86      0.88        51\n",
      "           1       0.91      0.84      0.87        50\n",
      "           2       0.85      0.96      0.90        49\n",
      "\n",
      "    accuracy                           0.89       150\n",
      "   macro avg       0.89      0.89      0.89       150\n",
      "weighted avg       0.89      0.89      0.89       150\n",
      "\n"
     ]
    }
   ],
   "source": [
    "print(classification_report(y, output))"
   ]
  },
  {
   "cell_type": "code",
   "execution_count": 10,
   "metadata": {},
   "outputs": [
    {
     "name": "stdout",
     "output_type": "stream",
     "text": [
      "\n",
      "Indices de caracteristias elegidas: 4,7,8,12,14,17,22\n"
     ]
    }
   ],
   "source": [
    "#Extraemos las caracteristicas elegidas por el bloque selector, se definio que se usaran 7 de las 25 \n",
    "status = processor_pipeline.named_steps['selector'].get_support()\n",
    "\n",
    "#Extraemos los indices de los caracteristicas elegidas\n",
    "selected = [i for i , x in enumerate(status) if x]\n",
    "\n",
    "print(\"\\nIndices de caracteristias elegidas:\", ','.join([str(x) for x in selected]))"
   ]
  },
  {
   "cell_type": "code",
   "execution_count": null,
   "metadata": {},
   "outputs": [],
   "source": []
  }
 ],
 "metadata": {
  "kernelspec": {
   "display_name": "Python 3",
   "language": "python",
   "name": "python3"
  },
  "language_info": {
   "codemirror_mode": {
    "name": "ipython",
    "version": 3
   },
   "file_extension": ".py",
   "mimetype": "text/x-python",
   "name": "python",
   "nbconvert_exporter": "python",
   "pygments_lexer": "ipython3",
   "version": "3.8.2"
  }
 },
 "nbformat": 4,
 "nbformat_minor": 4
}
