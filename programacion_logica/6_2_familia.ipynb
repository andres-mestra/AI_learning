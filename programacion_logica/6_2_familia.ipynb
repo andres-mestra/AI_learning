{
 "metadata": {
  "language_info": {
   "codemirror_mode": {
    "name": "ipython",
    "version": 3
   },
   "file_extension": ".py",
   "mimetype": "text/x-python",
   "name": "python",
   "nbconvert_exporter": "python",
   "pygments_lexer": "ipython3",
   "version": "3.8.5-final"
  },
  "orig_nbformat": 2,
  "kernelspec": {
   "name": "python3",
   "display_name": "Python 3"
  }
 },
 "nbformat": 4,
 "nbformat_minor": 2,
 "cells": [
  {
   "source": [
    "## Analizar arbol genealógico\n",
    "Uso de programación logica para determinar las relaciones familiares solo teniendo información sobre la relacion padres e hijos."
   ],
   "cell_type": "markdown",
   "metadata": {}
  },
  {
   "cell_type": "code",
   "execution_count": 24,
   "metadata": {},
   "outputs": [],
   "source": [
    "import json\n",
    "from logpy import Relation, facts, run, conde, var, eq"
   ]
  },
  {
   "cell_type": "code",
   "execution_count": 25,
   "metadata": {},
   "outputs": [],
   "source": [
    "#Definimos la logica que si x es el padre de y entonces x es el padre o la madre,\n",
    "#en la base ya se definen los padres y las madres\n",
    "def parent(x, y):\n",
    "    return conde([father(x,y)], [mother(x,y)])\n",
    "\n",
    "\n",
    "#verifica si x es abuelo de y, ademas la descendencia de x será el padre de y\n",
    "def grandparent(x, y):\n",
    "    temp = var()\n",
    "    return conde((parent(x, temp), parent(temp, y)))\n",
    "\n",
    "#verificar x es hermono de y, entonces 'x' y 'y' tienen el mismo padre\n",
    "def sibling(x, y):\n",
    "    temp = var()\n",
    "    return conde((parent(temp, x), parent(temp, y)))\n",
    "\n",
    "#verifica x es el tio de y, entonces los abuelos de y seran los mismos padres de x\n",
    "def uncle(x, y):\n",
    "    temp = var()\n",
    "    return conde((father(temp, x),grandparent(temp, y)))"
   ]
  },
  {
   "cell_type": "code",
   "execution_count": 41,
   "metadata": {},
   "outputs": [],
   "source": [
    "#Inicialización de las relaciones\n",
    "father = Relation()\n",
    "mother = Relation()\n",
    "\n",
    "#carga los datos\n",
    "data_file = 'relationships.json'\n",
    "with open(data_file) as f:\n",
    "    d = json.loads(f.read())\n",
    "\n",
    "#Lee los datos y establece los hechos de las relaciones\n",
    "for item in d['father']:\n",
    "    #el metodo facts establece que hay una relación padre hijo entre terminos\n",
    "    facts( father, ( list(item.keys())[0], list(item.values())[0] ) )\n",
    "for item in d['mother']:\n",
    "    #el metodo facts establece que hay una relación padre hijo entre terminos\n",
    "    facts( mother, ( list(item.keys())[0], list(item.values())[0] ) )  "
   ]
  },
  {
   "cell_type": "code",
   "execution_count": 55,
   "metadata": {},
   "outputs": [],
   "source": [
    "def view_relation(name, relation, tipo, c):\n",
    "    #Define x \n",
    "    x = var()\n",
    "    if(c == 0):\n",
    "        output = run(0,x, relation(name, x))\n",
    "    elif ( c == 1):\n",
    "        output = run(0,x, relation(x, name))\n",
    "    output = [x for x in output if x != name]\n",
    "    print(\"\\nLista de \" + tipo + \" de \" + name + \" :\")\n",
    "    for item in output:\n",
    "        print(item)"
   ]
  },
  {
   "cell_type": "code",
   "execution_count": 56,
   "metadata": {},
   "outputs": [
    {
     "output_type": "stream",
     "name": "stdout",
     "text": [
      "\nLista de hijos de John :\nAdam\nWilliam\nDavid\n"
     ]
    }
   ],
   "source": [
    "#Hijos de John\n",
    "view_relation('John', father, 'hijos', 0)"
   ]
  },
  {
   "cell_type": "code",
   "execution_count": 57,
   "metadata": {},
   "outputs": [
    {
     "output_type": "stream",
     "name": "stdout",
     "text": [
      "\nLista de Madre de William :\nMegan\n"
     ]
    }
   ],
   "source": [
    "#Madre de William's\n",
    "view_relation('William', mother, 'Madre', 1)"
   ]
  },
  {
   "cell_type": "code",
   "execution_count": 58,
   "metadata": {},
   "outputs": [
    {
     "output_type": "stream",
     "name": "stdout",
     "text": [
      "\nLista de Padres de Adam :\nJohn\nMegan\n"
     ]
    }
   ],
   "source": [
    "#Adam's padres\n",
    "view_relation('Adam', parent, 'Padres', 1)"
   ]
  },
  {
   "cell_type": "code",
   "execution_count": 59,
   "metadata": {},
   "outputs": [
    {
     "output_type": "stream",
     "name": "stdout",
     "text": [
      "\nLista de Abuelos de Wayne :\nMegan\nJohn\n"
     ]
    }
   ],
   "source": [
    "#Wayne abuelos\n",
    "view_relation('Wayne', grandparent, 'Abuelos', 1)"
   ]
  },
  {
   "cell_type": "code",
   "execution_count": 62,
   "metadata": {},
   "outputs": [
    {
     "output_type": "stream",
     "name": "stdout",
     "text": [
      "\nLista de Nietos de Megan :\nStephanie\nJulie\nSophia\nChris\nWayne\nTiffany\nPeter\nNeil\n"
     ]
    }
   ],
   "source": [
    "#Megan nietos\n",
    "view_relation('Megan',grandparent, 'Nietos', 0)"
   ]
  },
  {
   "cell_type": "code",
   "execution_count": 63,
   "metadata": {},
   "outputs": [
    {
     "output_type": "stream",
     "name": "stdout",
     "text": [
      "\nLista de Hermanos y hermanas de David :\nAdam\nWilliam\n"
     ]
    }
   ],
   "source": [
    "#David hermanos\n",
    "view_relation('David', sibling, 'Hermanos y hermanas', 0)"
   ]
  },
  {
   "cell_type": "code",
   "execution_count": 64,
   "metadata": {},
   "outputs": [
    {
     "output_type": "stream",
     "name": "stdout",
     "text": [
      "\nLista de Tios de Tiffany :\nAdam\nWilliam\nDavid\n"
     ]
    }
   ],
   "source": [
    "#Tiffany tios\n",
    "view_relation('Tiffany', uncle, 'Tios', 1)"
   ]
  },
  {
   "cell_type": "code",
   "execution_count": 74,
   "metadata": {},
   "outputs": [
    {
     "output_type": "stream",
     "name": "stdout",
     "text": [
      "\nList of all spouses:\nHusband: William <==> Wife: Emma\nHusband: Adam <==> Wife: Lily\nHusband: David <==> Wife: Olivia\nHusband: John <==> Wife: Megan\n"
     ]
    }
   ],
   "source": [
    "#Parejas\n",
    "a, b, c = var(), var(), var()\n",
    "output = run(0, (a, b), (father, a, c), (mother, b, c))\n",
    "print(\"\\nList of all spouses:\")\n",
    "for item in output:\n",
    "    print('Husband:', item[0], '<==> Wife:', item[1])"
   ]
  },
  {
   "cell_type": "code",
   "execution_count": null,
   "metadata": {},
   "outputs": [],
   "source": []
  }
 ]
}