{
 "metadata": {
  "language_info": {
   "codemirror_mode": {
    "name": "ipython",
    "version": 3
   },
   "file_extension": ".py",
   "mimetype": "text/x-python",
   "name": "python",
   "nbconvert_exporter": "python",
   "pygments_lexer": "ipython3",
   "version": "3.8.5-final"
  },
  "orig_nbformat": 2,
  "kernelspec": {
   "name": "python3",
   "display_name": "Python 3"
  }
 },
 "nbformat": 4,
 "nbformat_minor": 2,
 "cells": [
  {
   "source": [
    "## Analizador geografíco\n",
    "\n",
    "Se tienen los datos sobre la ubicación de estados  en EE.UU, detalles sobre que estados estan adyacentes entre si y que estados son consteros. "
   ],
   "cell_type": "markdown",
   "metadata": {}
  },
  {
   "cell_type": "code",
   "execution_count": 2,
   "metadata": {},
   "outputs": [],
   "source": [
    "from kanren import run, fact, eq, Relation, var"
   ]
  },
  {
   "cell_type": "code",
   "execution_count": 86,
   "metadata": {},
   "outputs": [],
   "source": [
    "#Inicializar relaciones\n",
    "adjacent = Relation()\n",
    "coastal = Relation()\n",
    "\n",
    "#Files\n",
    "file_coastal = \"coastal_states.txt\"\n",
    "file_adjacent = \"adjacent_states.txt\"\n",
    "#Leer y cargar datos\n",
    "with open(file_coastal, 'r') as f:\n",
    "    line = f.read()\n",
    "    coastal_states = line.split(',')\n",
    "#Añadiendo  la información a los hechos\n",
    "for state in coastal_states:\n",
    "    fact(coastal, state)\n",
    "\n",
    "#Leer y cargar los estados adyacentes\n",
    "with open(file_adjacent, 'r') as f:\n",
    "    adjlist = [line.strip().split(',') for line in f if line and line[0].isalpha()]\n",
    "\n",
    "for L in adjlist:\n",
    "    head, tail = L[0], L[1:]\n",
    "    for state in tail:\n",
    "        fact(adjacent, head, state)"
   ]
  },
  {
   "cell_type": "code",
   "execution_count": 92,
   "metadata": {},
   "outputs": [
    {
     "output_type": "stream",
     "name": "stdout",
     "text": [
      "Nevada esta adyacente a Louisiana?: \nNo\nEstados adyacentes a Oregon:\nIdaho\nWashington\nCalifornia\nNevada\n"
     ]
    }
   ],
   "source": [
    "#Inicilazar variables\n",
    "x = var()\n",
    "y = var()\n",
    "\n",
    "#test Nevada adyacente a louisiana?\n",
    "output = run(0,x, adjacent('Nevada','Louisiana'))\n",
    "print('Nevada esta adyacente a Louisiana?: ')\n",
    "print('Yes' if len(output) else 'No')\n",
    "#Estados adyacentes a Oregon\n",
    "output = run(0,x, adjacent('Oregon',x))\n",
    "print('Estados adyacentes a Oregon:')\n",
    "for item in output:\n",
    "    print(item)"
   ]
  },
  {
   "cell_type": "code",
   "execution_count": 93,
   "metadata": {},
   "outputs": [
    {
     "output_type": "stream",
     "name": "stdout",
     "text": [
      "Estados costeros adyacentes a Mississippi:\nAlabama\nLouisiana\n"
     ]
    }
   ],
   "source": [
    "#Estados costeros adyacentes a Mississippi\n",
    "output = run(0,x,adjacent('Mississippi',x),coastal(x))\n",
    "print(\"Estados costeros adyacentes a Mississippi:\")\n",
    "for item in output:\n",
    "    print(item)"
   ]
  },
  {
   "cell_type": "code",
   "execution_count": 95,
   "metadata": {},
   "outputs": [
    {
     "output_type": "stream",
     "name": "stdout",
     "text": [
      "Lista de 7 estados que rodean un estado costero:\nNew York\nTennessee\nMaryland\nVermont\nIowa\nGeorgia\nNevada\n"
     ]
    }
   ],
   "source": [
    "#Lista de n estados que rodean un estado costero\n",
    "n = 7\n",
    "output = run(n,x,coastal(y), adjacent(x,y))\n",
    "print(\"Lista de %d estados que rodean un estado costero:\" % n)\n",
    "for item in output:\n",
    "    print(item)"
   ]
  },
  {
   "cell_type": "code",
   "execution_count": 96,
   "metadata": {},
   "outputs": [
    {
     "output_type": "stream",
     "name": "stdout",
     "text": [
      "Lista de estados adyacentes a Arkansas y Kentycky:\nTennessee\nMissouri\n"
     ]
    }
   ],
   "source": [
    "output = run(0,x,adjacent('Arkansas',x),adjacent('Kentucky',x))\n",
    "print(\"Lista de estados adyacentes a Arkansas y Kentycky:\")\n",
    "for item in output:\n",
    "    print(item)\n",
    "    "
   ]
  }
 ]
}